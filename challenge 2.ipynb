{
 "cells": [
  {
   "cell_type": "code",
   "execution_count": 1,
   "metadata": {},
   "outputs": [],
   "source": [
    "# To enable plotting graphs in Jupyter notebook\n",
    "%matplotlib inline \n",
    "\n",
    "# Numerical libraries\n",
    "import numpy as np\n",
    "import math\n",
    "\n",
    "# To handle data in form of rows and columns \n",
    "import pandas as pd\n",
    "\n",
    "# To split data into train and test\n",
    "from sklearn.model_selection import train_test_split, cross_validate, cross_val_predict, cross_val_score, GridSearchCV\n",
    "\n",
    "# Import machine learning library\n",
    "from sklearn.linear_model import LogisticRegression\n",
    "from sklearn.ensemble import RandomForestClassifier, AdaBoostClassifier, GradientBoostingClassifier, ExtraTreesClassifier\n",
    "from lightgbm import LGBMClassifier\n",
    "from sklearn.neighbors import KNeighborsClassifier\n",
    "\n",
    "# Import RFE for feature selection\n",
    "from sklearn.feature_selection import RFE\n",
    "\n",
    "# Preprocessing\n",
    "from sklearn.preprocessing import PolynomialFeatures, StandardScaler, LabelEncoder\n",
    "from sklearn.decomposition import PCA\n",
    "\n",
    "# Import ploting libraries\n",
    "import matplotlib.pyplot as plt   \n",
    "\n",
    "# Import seaborn for statistical plots\n",
    "import seaborn as sns\n",
    "\n",
    "# Import zscore for standard score\n",
    "from scipy.stats import zscore\n",
    "\n",
    "# To evaluate\n",
    "from sklearn.metrics import r2_score, mean_absolute_error, mean_squared_error, confusion_matrix, precision_score\n",
    "from sklearn.metrics import recall_score, f1_score, roc_auc_score, accuracy_score, classification_report\n",
    "\n",
    "# Import warnings to hide them\n",
    "import warnings\n",
    "warnings.filterwarnings('ignore')"
   ]
  },
  {
   "cell_type": "code",
   "execution_count": 2,
   "metadata": {},
   "outputs": [
    {
     "data": {
      "text/html": [
       "<div>\n",
       "<style scoped>\n",
       "    .dataframe tbody tr th:only-of-type {\n",
       "        vertical-align: middle;\n",
       "    }\n",
       "\n",
       "    .dataframe tbody tr th {\n",
       "        vertical-align: top;\n",
       "    }\n",
       "\n",
       "    .dataframe thead th {\n",
       "        text-align: right;\n",
       "    }\n",
       "</style>\n",
       "<table border=\"1\" class=\"dataframe\">\n",
       "  <thead>\n",
       "    <tr style=\"text-align: right;\">\n",
       "      <th></th>\n",
       "      <th>1</th>\n",
       "      <th>2</th>\n",
       "      <th>3</th>\n",
       "      <th>Target</th>\n",
       "    </tr>\n",
       "  </thead>\n",
       "  <tbody>\n",
       "    <tr>\n",
       "      <th>0</th>\n",
       "      <td>0.60</td>\n",
       "      <td>0.31</td>\n",
       "      <td>13.0</td>\n",
       "      <td>False</td>\n",
       "    </tr>\n",
       "    <tr>\n",
       "      <th>1</th>\n",
       "      <td>0.74</td>\n",
       "      <td>0.33</td>\n",
       "      <td>21.0</td>\n",
       "      <td>False</td>\n",
       "    </tr>\n",
       "    <tr>\n",
       "      <th>2</th>\n",
       "      <td>0.54</td>\n",
       "      <td>0.19</td>\n",
       "      <td>NaN</td>\n",
       "      <td>True</td>\n",
       "    </tr>\n",
       "    <tr>\n",
       "      <th>3</th>\n",
       "      <td>0.46</td>\n",
       "      <td>NaN</td>\n",
       "      <td>9.0</td>\n",
       "      <td>False</td>\n",
       "    </tr>\n",
       "    <tr>\n",
       "      <th>4</th>\n",
       "      <td>0.77</td>\n",
       "      <td>0.15</td>\n",
       "      <td>15.0</td>\n",
       "      <td>True</td>\n",
       "    </tr>\n",
       "  </tbody>\n",
       "</table>\n",
       "</div>"
      ],
      "text/plain": [
       "      1     2     3 Target\n",
       "0  0.60  0.31  13.0  False\n",
       "1  0.74  0.33  21.0  False\n",
       "2  0.54  0.19   NaN   True\n",
       "3  0.46   NaN   9.0  False\n",
       "4  0.77  0.15  15.0   True"
      ]
     },
     "execution_count": 2,
     "metadata": {},
     "output_type": "execute_result"
    }
   ],
   "source": [
    "# reading the CSV file into pandas dataframe\n",
    "df = pd.read_csv('challenge2_dataset.csv')\n",
    "\n",
    "# Check top 5 records to get a feel of the data structure\n",
    "df.head()"
   ]
  },
  {
   "cell_type": "code",
   "execution_count": 3,
   "metadata": {},
   "outputs": [
    {
     "name": "stdout",
     "output_type": "stream",
     "text": [
      "Number of rows :  1995\n",
      "Number of columns :  4\n"
     ]
    }
   ],
   "source": [
    "print('Number of rows : ',df.shape[0])\n",
    "print('Number of columns : ',df.shape[1])"
   ]
  },
  {
   "cell_type": "code",
   "execution_count": 4,
   "metadata": {},
   "outputs": [
    {
     "name": "stdout",
     "output_type": "stream",
     "text": [
      "<class 'pandas.core.frame.DataFrame'>\n",
      "RangeIndex: 1995 entries, 0 to 1994\n",
      "Data columns (total 4 columns):\n",
      " #   Column  Non-Null Count  Dtype  \n",
      "---  ------  --------------  -----  \n",
      " 0   1       1992 non-null   float64\n",
      " 1   2       1992 non-null   float64\n",
      " 2   3       1993 non-null   float64\n",
      " 3   Target  1984 non-null   object \n",
      "dtypes: float64(3), object(1)\n",
      "memory usage: 62.5+ KB\n"
     ]
    }
   ],
   "source": [
    "df.info()"
   ]
  },
  {
   "cell_type": "code",
   "execution_count": 5,
   "metadata": {},
   "outputs": [
    {
     "data": {
      "text/html": [
       "<div>\n",
       "<style scoped>\n",
       "    .dataframe tbody tr th:only-of-type {\n",
       "        vertical-align: middle;\n",
       "    }\n",
       "\n",
       "    .dataframe tbody tr th {\n",
       "        vertical-align: top;\n",
       "    }\n",
       "\n",
       "    .dataframe thead th {\n",
       "        text-align: right;\n",
       "    }\n",
       "</style>\n",
       "<table border=\"1\" class=\"dataframe\">\n",
       "  <thead>\n",
       "    <tr style=\"text-align: right;\">\n",
       "      <th></th>\n",
       "      <th>count</th>\n",
       "      <th>mean</th>\n",
       "      <th>std</th>\n",
       "      <th>min</th>\n",
       "      <th>25%</th>\n",
       "      <th>50%</th>\n",
       "      <th>75%</th>\n",
       "      <th>max</th>\n",
       "    </tr>\n",
       "  </thead>\n",
       "  <tbody>\n",
       "    <tr>\n",
       "      <th>1</th>\n",
       "      <td>1992.0</td>\n",
       "      <td>1.488800</td>\n",
       "      <td>22.145983</td>\n",
       "      <td>0.4</td>\n",
       "      <td>0.49</td>\n",
       "      <td>0.60</td>\n",
       "      <td>0.71</td>\n",
       "      <td>600.0</td>\n",
       "    </tr>\n",
       "    <tr>\n",
       "      <th>2</th>\n",
       "      <td>1992.0</td>\n",
       "      <td>1.741546</td>\n",
       "      <td>58.456685</td>\n",
       "      <td>0.1</td>\n",
       "      <td>0.15</td>\n",
       "      <td>0.22</td>\n",
       "      <td>0.30</td>\n",
       "      <td>2600.0</td>\n",
       "    </tr>\n",
       "    <tr>\n",
       "      <th>3</th>\n",
       "      <td>1993.0</td>\n",
       "      <td>16.333166</td>\n",
       "      <td>42.407440</td>\n",
       "      <td>0.0</td>\n",
       "      <td>12.00</td>\n",
       "      <td>15.00</td>\n",
       "      <td>19.00</td>\n",
       "      <td>1900.0</td>\n",
       "    </tr>\n",
       "  </tbody>\n",
       "</table>\n",
       "</div>"
      ],
      "text/plain": [
       "    count       mean        std  min    25%    50%    75%     max\n",
       "1  1992.0   1.488800  22.145983  0.4   0.49   0.60   0.71   600.0\n",
       "2  1992.0   1.741546  58.456685  0.1   0.15   0.22   0.30  2600.0\n",
       "3  1993.0  16.333166  42.407440  0.0  12.00  15.00  19.00  1900.0"
      ]
     },
     "execution_count": 5,
     "metadata": {},
     "output_type": "execute_result"
    }
   ],
   "source": [
    "df.describe().T"
   ]
  },
  {
   "cell_type": "code",
   "execution_count": 6,
   "metadata": {},
   "outputs": [
    {
     "data": {
      "text/plain": [
       "1          3\n",
       "2          3\n",
       "3          2\n",
       "Target    11\n",
       "dtype: int64"
      ]
     },
     "execution_count": 6,
     "metadata": {},
     "output_type": "execute_result"
    }
   ],
   "source": [
    "# Check for null values\n",
    "df.isnull().sum()"
   ]
  },
  {
   "cell_type": "markdown",
   "metadata": {},
   "source": [
    "* **19 Null values**\n",
    "* we can impute null values by mean, median, mode"
   ]
  },
  {
   "cell_type": "code",
   "execution_count": 7,
   "metadata": {},
   "outputs": [],
   "source": [
    "df['1'].fillna(df['1'].mean(), inplace = True)\n",
    "df['2'].fillna(df['2'].mean(), inplace = True)\n",
    "df['3'].fillna(df['3'].mean(), inplace = True)\n",
    "df['Target'].fillna(method ='ffill', inplace = True)"
   ]
  },
  {
   "cell_type": "code",
   "execution_count": 8,
   "metadata": {},
   "outputs": [
    {
     "name": "stdout",
     "output_type": "stream",
     "text": [
      "Before :  (1995, 4)\n",
      "After :  (1995, 4)\n"
     ]
    }
   ],
   "source": [
    "# shape of the data before deleting missing entries\n",
    "print('Before : ',df.shape)\n",
    "\n",
    "# deleting duplicates, except the first observation\n",
    "df.drop_duplicates(keep='first')\n",
    "\n",
    "# shape of the data after deleting duplicate entries\n",
    "print('After : ',df.shape)"
   ]
  },
  {
   "cell_type": "markdown",
   "metadata": {},
   "source": [
    "* **No duplicates**"
   ]
  },
  {
   "cell_type": "markdown",
   "metadata": {},
   "source": [
    "### Let us do a pair plot analysis to visually check number of likely clusters"
   ]
  },
  {
   "cell_type": "code",
   "execution_count": 9,
   "metadata": {},
   "outputs": [
    {
     "data": {
      "image/png": "[encoded data removed]",
      "text/plain": [
       "<Figure size 601.25x540 with 12 Axes>"
      ]
     },
     "metadata": {
      "needs_background": "light"
     },
     "output_type": "display_data"
    },
    {
     "name": "stdout",
     "output_type": "stream",
     "text": [
      "Wall time: 3.63 s\n"
     ]
    }
   ],
   "source": [
    "%%time\n",
    "sns.pairplot(df, diag_kind='kde', hue = 'Target')   # to plot density curve instead of histogram\n",
    "plt.show()\n",
    "\n",
    "#sns.pairplot(df)  # to plot histogram, the default"
   ]
  },
  {
   "cell_type": "code",
   "execution_count": 10,
   "metadata": {},
   "outputs": [],
   "source": [
    "df_attr = df.iloc[:,:-1]\n",
    "df_tar = df['Target']"
   ]
  },
  {
   "cell_type": "code",
   "execution_count": 11,
   "metadata": {},
   "outputs": [
    {
     "data": {
      "image/png": "[encoded data removed]",
      "text/plain": [
       "<Figure size 1440x432 with 3 Axes>"
      ]
     },
     "metadata": {
      "needs_background": "light"
     },
     "output_type": "display_data"
    }
   ],
   "source": [
    "# pick number of columns\n",
    "ncol = 3\n",
    "# make sure enough subplots\n",
    "nrow = math.floor((len(df_attr.columns) + ncol - 1) / ncol)\n",
    "# create the axes\n",
    "height = 6 * nrow\n",
    "fig, ax = plt.subplots(nrows=nrow, ncols=ncol, figsize=(20, height))\n",
    "\n",
    "# go over a linear list of data\n",
    "for i, col in enumerate(df_attr.columns):\n",
    "    # compute an appropriate index (1d or 2d)\n",
    "    ix = np.unravel_index(i, ax.shape) \n",
    "\n",
    "    sns.distplot(df_attr[col], ax=ax[ix])\n",
    "\n",
    "plt.tight_layout()\n",
    "plt.show();"
   ]
  },
  {
   "cell_type": "markdown",
   "metadata": {},
   "source": [
    "* **Right Skewed**"
   ]
  },
  {
   "cell_type": "code",
   "execution_count": 12,
   "metadata": {},
   "outputs": [],
   "source": [
    "X = df_attr # select all rows and columns which are the attributes\n",
    "y = df_tar  # select all rows and column which is the target"
   ]
  },
  {
   "cell_type": "code",
   "execution_count": 13,
   "metadata": {},
   "outputs": [
    {
     "data": {
      "image/png": "[encoded data removed]",
      "text/plain": [
       "<Figure size 1080x576 with 3 Axes>"
      ]
     },
     "metadata": {
      "needs_background": "light"
     },
     "output_type": "display_data"
    }
   ],
   "source": [
    "X.plot(kind= 'box' , subplots=True, layout=(1,3), sharex=False, sharey=False, figsize=(15,8))\n",
    "plt.show();"
   ]
  },
  {
   "cell_type": "code",
   "execution_count": 14,
   "metadata": {},
   "outputs": [
    {
     "data": {
      "image/png": "[encoded data removed]",
      "text/plain": [
       "<Figure size 432x288 with 1 Axes>"
      ]
     },
     "metadata": {
      "needs_background": "light"
     },
     "output_type": "display_data"
    }
   ],
   "source": [
    "# target variable\n",
    "y.value_counts().plot(kind='bar')\n",
    "plt.show()"
   ]
  },
  {
   "cell_type": "code",
   "execution_count": 15,
   "metadata": {},
   "outputs": [
    {
     "data": {
      "text/plain": [
       "False    78.847118\n",
       "True     21.152882\n",
       "Name: Target, dtype: float64"
      ]
     },
     "execution_count": 15,
     "metadata": {},
     "output_type": "execute_result"
    }
   ],
   "source": [
    "df['Target'].value_counts(normalize = True)*100"
   ]
  },
  {
   "cell_type": "markdown",
   "metadata": {},
   "source": [
    "* **Data is imbalanced**"
   ]
  },
  {
   "cell_type": "code",
   "execution_count": 16,
   "metadata": {},
   "outputs": [
    {
     "data": {
      "image/png": "[encoded data removed]",
      "text/plain": [
       "<Figure size 1080x720 with 2 Axes>"
      ]
     },
     "metadata": {},
     "output_type": "display_data"
    }
   ],
   "source": [
    "# Set the style of the visualization\n",
    "sns.set_style('white')\n",
    "\n",
    "# Create a Correlation matrix\n",
    "corr = df_attr.corr()\n",
    "\n",
    "# Generate a mask the size of our Correlation matrix\n",
    "mask = np.zeros_like(corr)\n",
    "mask[np.triu_indices_from(mask)] = None\n",
    "\n",
    "# Set up the matplotlib figure\n",
    "fig, ax = plt.subplots(figsize=(15, 10))\n",
    "\n",
    "# Generate a custom diverging colormap\n",
    "cmap = sns.diverging_palette(240, 10, sep=20, n=9, as_cmap=True)\n",
    "\n",
    "# Draw the heatmapwith the mask and correct aspect ratio\n",
    "sns.heatmap(corr, cmap=cmap, mask=mask, square=True, annot=True)\n",
    "\n",
    "plt.show();"
   ]
  },
  {
   "cell_type": "code",
   "execution_count": 17,
   "metadata": {},
   "outputs": [],
   "source": [
    "### Train Test Split\n",
    "\n",
    "X_train, X_test, y_train, y_test = train_test_split(X, y, test_size=0.30, random_state=100)"
   ]
  },
  {
   "cell_type": "markdown",
   "metadata": {},
   "source": [
    "#### Are both train and test representative of the overall data"
   ]
  },
  {
   "cell_type": "code",
   "execution_count": 18,
   "metadata": {},
   "outputs": [
    {
     "data": {
      "text/plain": [
       "array([[<matplotlib.axes._subplots.AxesSubplot object at 0x0000025E824DF470>,\n",
       "        <matplotlib.axes._subplots.AxesSubplot object at 0x0000025E82354EB8>,\n",
       "        <matplotlib.axes._subplots.AxesSubplot object at 0x0000025E82AED550>]],\n",
       "      dtype=object)"
      ]
     },
     "execution_count": 18,
     "metadata": {},
     "output_type": "execute_result"
    },
    {
     "data": {
      "image/png": "[encoded data removed]",
      "text/plain": [
       "<Figure size 1080x576 with 3 Axes>"
      ]
     },
     "metadata": {},
     "output_type": "display_data"
    },
    {
     "data": {
      "image/png": "[encoded data removed]",
      "text/plain": [
       "<Figure size 1080x576 with 3 Axes>"
      ]
     },
     "metadata": {},
     "output_type": "display_data"
    }
   ],
   "source": [
    "X_train.plot(kind= 'kde' , subplots=True, layout=(1,3), sharex=False, sharey=False, figsize=(15,8))\n",
    "X_test.plot(kind= 'kde' , subplots=True, layout=(1,3), sharex=False, sharey=False, figsize=(15,8))"
   ]
  },
  {
   "cell_type": "markdown",
   "metadata": {},
   "source": [
    "#### Feature Scaling\n",
    "\n",
    "One last step before we move to splitting our data to Train-Test Split is to scale the features to some specific range. This is called Feature Scaling. But before we do this we will split the feature and target variables because we don't want to scale our target variable."
   ]
  },
  {
   "cell_type": "code",
   "execution_count": 19,
   "metadata": {},
   "outputs": [],
   "source": [
    "cols = X_train.columns\n",
    "scaler = StandardScaler()\n",
    "\n",
    "# apply feature scaling to all features\n",
    "X_scaled_train = scaler.fit_transform(X_train)\n",
    "X_scaled_test = scaler.transform(X_test)"
   ]
  },
  {
   "cell_type": "code",
   "execution_count": 20,
   "metadata": {},
   "outputs": [],
   "source": [
    "# our data after feature scaling\n",
    "X_train = pd.DataFrame(X_scaled_train, columns = cols)\n",
    "X_test = pd.DataFrame(X_scaled_test, columns = cols)"
   ]
  },
  {
   "cell_type": "markdown",
   "metadata": {},
   "source": [
    "### MODEL BUILT ON TRAIN TEST SPLIT DATA"
   ]
  },
  {
   "cell_type": "markdown",
   "metadata": {},
   "source": [
    "#### Logistic Regression"
   ]
  },
  {
   "cell_type": "code",
   "execution_count": 21,
   "metadata": {},
   "outputs": [
    {
     "name": "stdout",
     "output_type": "stream",
     "text": [
      "Train Accuracy --  85.38681948424069\n",
      "Test Accuracy --  86.14357262103506\n",
      "Cross validation score         :  0.8451\n",
      "Cross validation std           :  0.0199\n",
      "Bias Errors (1-Accuracy/R2)    :  0.1549\n",
      "Variance Errors                :  0.0004\n",
      "              precision    recall  f1-score   support\n",
      "\n",
      "       False       0.89      0.93      0.91       464\n",
      "        True       0.72      0.62      0.67       135\n",
      "\n",
      "    accuracy                           0.86       599\n",
      "   macro avg       0.81      0.78      0.79       599\n",
      "weighted avg       0.86      0.86      0.86       599\n",
      "\n"
     ]
    }
   ],
   "source": [
    "LR = LogisticRegression()\n",
    "LR.fit(X_train , y_train)\n",
    "\n",
    "y_pred_LR = LR.predict(X_test)\n",
    "\n",
    "#score\n",
    "print(\"Train Accuracy -- \", LR.score(X_train, y_train)*100)\n",
    "print(\"Test Accuracy -- \", LR.score(X_test, y_test)*100)\n",
    "\n",
    "# Cross validation score\n",
    "scoresdt = cross_val_score(LR, X, y, cv=10)\n",
    "print('Cross validation score         : ',round(scoresdt.mean(), 4))\n",
    "print('Cross validation std           : ',round(scoresdt.std(), 4))\n",
    "\n",
    "#Bias Variance Error Calculation\n",
    "print(\"Bias Errors (1-Accuracy/R2)    : \",round(1-np.mean(scoresdt), 4))\n",
    "print(\"Variance Errors                : \",round(np.var(scoresdt), 4))\n",
    "\n",
    "print(classification_report(y_test,y_pred_LR))"
   ]
  },
  {
   "cell_type": "code",
   "execution_count": 22,
   "metadata": {},
   "outputs": [
    {
     "data": {
      "text/plain": [
       "<matplotlib.axes._subplots.AxesSubplot at 0x25e82ac4208>"
      ]
     },
     "execution_count": 22,
     "metadata": {},
     "output_type": "execute_result"
    },
    {
     "data": {
      "image/png": "[encoded data removed]",
      "text/plain": [
       "<Figure size 720x432 with 2 Axes>"
      ]
     },
     "metadata": {},
     "output_type": "display_data"
    }
   ],
   "source": [
    "from sklearn.metrics import confusion_matrix\n",
    "cm=confusion_matrix(y_test,y_pred_LR)\n",
    "conf_matrix=pd.DataFrame(data=cm,\n",
    "                         columns=['Predicted:1','Predicted:2'],\n",
    "                         index=['Actual:1','Actual:2'])\n",
    "plt.figure(figsize = (10,6))\n",
    "sns.heatmap(conf_matrix, annot=True,fmt='d',cmap=\"GnBu\")"
   ]
  },
  {
   "cell_type": "markdown",
   "metadata": {},
   "source": [
    "#### Random forest"
   ]
  },
  {
   "cell_type": "code",
   "execution_count": 23,
   "metadata": {},
   "outputs": [
    {
     "name": "stdout",
     "output_type": "stream",
     "text": [
      "Train Accuracy --  100.0\n",
      "Test Accuracy --  96.661101836394\n",
      "Cross validation score         :  0.9689\n",
      "Cross validation std           :  0.0113\n",
      "Bias Errors (1-Accuracy/R2)    :  0.0311\n",
      "Variance Errors                :  0.0001\n",
      "              precision    recall  f1-score   support\n",
      "\n",
      "       False       0.98      0.97      0.98       464\n",
      "        True       0.91      0.94      0.93       135\n",
      "\n",
      "    accuracy                           0.97       599\n",
      "   macro avg       0.95      0.96      0.95       599\n",
      "weighted avg       0.97      0.97      0.97       599\n",
      "\n"
     ]
    }
   ],
   "source": [
    "RF = RandomForestClassifier(n_jobs = -1)\n",
    "#fit\n",
    "RF.fit(X_train, y_train)\n",
    "#prediction\n",
    "y_pred_RF = RF.predict(X_test)\n",
    "\n",
    "#score\n",
    "print(\"Train Accuracy -- \", RF.score(X_train, y_train)*100)\n",
    "print(\"Test Accuracy -- \", RF.score(X_test, y_test)*100)\n",
    "\n",
    "# Cross validation score\n",
    "scoresdt = cross_val_score(RF, X, y, cv=10)\n",
    "print('Cross validation score         : ',round(scoresdt.mean(), 4))\n",
    "print('Cross validation std           : ',round(scoresdt.std(), 4))\n",
    "\n",
    "#Bias Variance Error Calculation\n",
    "print(\"Bias Errors (1-Accuracy/R2)    : \",round(1-np.mean(scoresdt), 4))\n",
    "print(\"Variance Errors                : \",round(np.var(scoresdt), 4))\n",
    "\n",
    "print(classification_report(y_test,y_pred_RF))"
   ]
  },
  {
   "cell_type": "code",
   "execution_count": 24,
   "metadata": {},
   "outputs": [
    {
     "data": {
      "text/plain": [
       "<matplotlib.axes._subplots.AxesSubplot at 0x25e82041b00>"
      ]
     },
     "execution_count": 24,
     "metadata": {},
     "output_type": "execute_result"
    },
    {
     "data": {
      "image/png": "[encoded data removed]",
      "text/plain": [
       "<Figure size 720x432 with 2 Axes>"
      ]
     },
     "metadata": {},
     "output_type": "display_data"
    }
   ],
   "source": [
    "from sklearn.metrics import confusion_matrix\n",
    "cm=confusion_matrix(y_test,y_pred_RF)\n",
    "conf_matrix=pd.DataFrame(data=cm,\n",
    "                         columns=['Predicted:1','Predicted:2'],\n",
    "                         index=['Actual:1','Actual:2'])\n",
    "plt.figure(figsize = (10,6))\n",
    "sns.heatmap(conf_matrix, annot=True,fmt='d',cmap=\"GnBu\")"
   ]
  },
  {
   "cell_type": "markdown",
   "metadata": {},
   "source": [
    "#### Gradient boosting"
   ]
  },
  {
   "cell_type": "code",
   "execution_count": 25,
   "metadata": {},
   "outputs": [
    {
     "name": "stdout",
     "output_type": "stream",
     "text": [
      "Train Accuracy --  99.06876790830945\n",
      "Test Accuracy --  96.661101836394\n",
      "Cross validation score         :  0.9659\n",
      "Cross validation std           :  0.0139\n",
      "Bias Errors (1-Accuracy/R2)    :  0.0341\n",
      "Variance Errors                :  0.0002\n",
      "              precision    recall  f1-score   support\n",
      "\n",
      "       False       0.99      0.97      0.98       464\n",
      "        True       0.90      0.96      0.93       135\n",
      "\n",
      "    accuracy                           0.97       599\n",
      "   macro avg       0.94      0.96      0.95       599\n",
      "weighted avg       0.97      0.97      0.97       599\n",
      "\n"
     ]
    }
   ],
   "source": [
    "GB = GradientBoostingClassifier()\n",
    "#fit\n",
    "GB.fit(X_train, y_train)\n",
    "#prediction\n",
    "y_pred_GB = GB.predict(X_test)\n",
    "\n",
    "#score\n",
    "print(\"Train Accuracy -- \", GB.score(X_train, y_train)*100)\n",
    "print(\"Test Accuracy -- \", GB.score(X_test, y_test)*100)\n",
    "\n",
    "# Cross validation score\n",
    "scoresdt = cross_val_score(GB, X, y, cv=10)\n",
    "print('Cross validation score         : ',round(scoresdt.mean(), 4))\n",
    "print('Cross validation std           : ',round(scoresdt.std(), 4))\n",
    "\n",
    "#Bias Variance Error Calculation\n",
    "print(\"Bias Errors (1-Accuracy/R2)    : \",round(1-np.mean(scoresdt), 4))\n",
    "print(\"Variance Errors                : \",round(np.var(scoresdt), 4))\n",
    "\n",
    "print(classification_report(y_test,y_pred_GB))"
   ]
  },
  {
   "cell_type": "code",
   "execution_count": 26,
   "metadata": {},
   "outputs": [
    {
     "data": {
      "text/plain": [
       "<matplotlib.axes._subplots.AxesSubplot at 0x25e821665f8>"
      ]
     },
     "execution_count": 26,
     "metadata": {},
     "output_type": "execute_result"
    },
    {
     "data": {
      "image/png": "[encoded data removed]",
      "text/plain": [
       "<Figure size 720x432 with 2 Axes>"
      ]
     },
     "metadata": {},
     "output_type": "display_data"
    }
   ],
   "source": [
    "from sklearn.metrics import confusion_matrix\n",
    "cm=confusion_matrix(y_test,y_pred_GB)\n",
    "conf_matrix=pd.DataFrame(data=cm,\n",
    "                         columns=['Predicted:1','Predicted:2'],\n",
    "                         index=['Actual:1','Actual:2'])\n",
    "plt.figure(figsize = (10,6))\n",
    "sns.heatmap(conf_matrix, annot=True,fmt='d',cmap=\"GnBu\")"
   ]
  },
  {
   "cell_type": "markdown",
   "metadata": {},
   "source": [
    "#### LGBM"
   ]
  },
  {
   "cell_type": "code",
   "execution_count": 27,
   "metadata": {},
   "outputs": [
    {
     "name": "stdout",
     "output_type": "stream",
     "text": [
      "Train Accuracy --  100.0\n",
      "Test Accuracy --  95.82637729549248\n",
      "Cross validation score         :  0.9649\n",
      "Cross validation std           :  0.0116\n",
      "Bias Errors (1-Accuracy/R2)    :  0.0351\n",
      "Variance Errors                :  0.0001\n",
      "              precision    recall  f1-score   support\n",
      "\n",
      "       False       0.98      0.96      0.97       464\n",
      "        True       0.88      0.94      0.91       135\n",
      "\n",
      "    accuracy                           0.96       599\n",
      "   macro avg       0.93      0.95      0.94       599\n",
      "weighted avg       0.96      0.96      0.96       599\n",
      "\n"
     ]
    }
   ],
   "source": [
    "LGBM = LGBMClassifier(n_estimators=200, n_jobs = -1)\n",
    "#fit\n",
    "LGBM.fit(X_train, y_train)\n",
    "#prediction\n",
    "y_pred_LGBM = LGBM.predict(X_test)\n",
    "\n",
    "#score\n",
    "print(\"Train Accuracy -- \", LGBM.score(X_train, y_train)*100)\n",
    "print(\"Test Accuracy -- \", LGBM.score(X_test, y_test)*100)\n",
    "\n",
    "# Cross validation score\n",
    "scoresdt = cross_val_score(LGBM, X, y, cv=10)\n",
    "print('Cross validation score         : ',round(scoresdt.mean(), 4))\n",
    "print('Cross validation std           : ',round(scoresdt.std(), 4))\n",
    "\n",
    "#Bias Variance Error Calculation\n",
    "print(\"Bias Errors (1-Accuracy/R2)    : \",round(1-np.mean(scoresdt), 4))\n",
    "print(\"Variance Errors                : \",round(np.var(scoresdt), 4))\n",
    "\n",
    "print(classification_report(y_test,y_pred_LGBM))"
   ]
  },
  {
   "cell_type": "code",
   "execution_count": 28,
   "metadata": {},
   "outputs": [
    {
     "data": {
      "text/plain": [
       "<matplotlib.axes._subplots.AxesSubplot at 0x25efc5e2d68>"
      ]
     },
     "execution_count": 28,
     "metadata": {},
     "output_type": "execute_result"
    },
    {
     "data": {
      "image/png": "[encoded data removed]",
      "text/plain": [
       "<Figure size 720x432 with 2 Axes>"
      ]
     },
     "metadata": {},
     "output_type": "display_data"
    }
   ],
   "source": [
    "from sklearn.metrics import confusion_matrix\n",
    "cm=confusion_matrix(y_test,y_pred_LGBM)\n",
    "conf_matrix=pd.DataFrame(data=cm,\n",
    "                         columns=['Predicted:1','Predicted:2'],\n",
    "                         index=['Actual:1','Actual:2'])\n",
    "plt.figure(figsize = (10,6))\n",
    "sns.heatmap(conf_matrix, annot=True,fmt='d',cmap=\"GnBu\")"
   ]
  },
  {
   "cell_type": "markdown",
   "metadata": {},
   "source": [
    "#### KNN"
   ]
  },
  {
   "cell_type": "code",
   "execution_count": 29,
   "metadata": {},
   "outputs": [
    {
     "name": "stdout",
     "output_type": "stream",
     "text": [
      "Train Accuracy --  97.134670487106\n",
      "Test Accuracy --  95.49248747913188\n",
      "Cross validation score         :  0.9699\n",
      "Cross validation std           :  0.0077\n",
      "Bias Errors (1-Accuracy/R2)    :  0.0301\n",
      "Variance Errors                :  0.0001\n",
      "              precision    recall  f1-score   support\n",
      "\n",
      "       False       0.98      0.96      0.97       464\n",
      "        True       0.88      0.93      0.90       135\n",
      "\n",
      "    accuracy                           0.95       599\n",
      "   macro avg       0.93      0.94      0.94       599\n",
      "weighted avg       0.96      0.95      0.96       599\n",
      "\n"
     ]
    }
   ],
   "source": [
    "KNN = KNeighborsClassifier(metric='minkowski', n_jobs = -1)\n",
    "\n",
    "#fit\n",
    "KNN.fit(X_train, y_train)\n",
    "#prediction\n",
    "y_pred_KNN = KNN.predict(X_test)\n",
    "\n",
    "#score\n",
    "print(\"Train Accuracy -- \", KNN.score(X_train, y_train)*100)\n",
    "print(\"Test Accuracy -- \", KNN.score(X_test, y_test)*100)\n",
    "\n",
    "# Cross validation score\n",
    "scoresdt = cross_val_score(KNN, X, y, cv=10)\n",
    "print('Cross validation score         : ',round(scoresdt.mean(), 4))\n",
    "print('Cross validation std           : ',round(scoresdt.std(), 4))\n",
    "\n",
    "#Bias Variance Error Calculation\n",
    "print(\"Bias Errors (1-Accuracy/R2)    : \",round(1-np.mean(scoresdt), 4))\n",
    "print(\"Variance Errors                : \",round(np.var(scoresdt), 4))\n",
    "\n",
    "print(classification_report(y_test,y_pred_KNN))"
   ]
  },
  {
   "cell_type": "code",
   "execution_count": 30,
   "metadata": {},
   "outputs": [
    {
     "data": {
      "text/plain": [
       "<matplotlib.axes._subplots.AxesSubplot at 0x25e820c6400>"
      ]
     },
     "execution_count": 30,
     "metadata": {},
     "output_type": "execute_result"
    },
    {
     "data": {
      "image/png": "[encoded data removed]",
      "text/plain": [
       "<Figure size 720x432 with 2 Axes>"
      ]
     },
     "metadata": {},
     "output_type": "display_data"
    }
   ],
   "source": [
    "from sklearn.metrics import confusion_matrix\n",
    "cm=confusion_matrix(y_test,y_pred_KNN)\n",
    "conf_matrix=pd.DataFrame(data=cm,\n",
    "                         columns=['Predicted:1','Predicted:2'],\n",
    "                         index=['Actual:1','Actual:2'])\n",
    "plt.figure(figsize = (10,6))\n",
    "sns.heatmap(conf_matrix, annot=True,fmt='d',cmap=\"GnBu\")"
   ]
  },
  {
   "cell_type": "markdown",
   "metadata": {},
   "source": [
    "## Reading the prediction file into pandas dataframe"
   ]
  },
  {
   "cell_type": "code",
   "execution_count": 31,
   "metadata": {},
   "outputs": [
    {
     "data": {
      "text/html": [
       "<div>\n",
       "<style scoped>\n",
       "    .dataframe tbody tr th:only-of-type {\n",
       "        vertical-align: middle;\n",
       "    }\n",
       "\n",
       "    .dataframe tbody tr th {\n",
       "        vertical-align: top;\n",
       "    }\n",
       "\n",
       "    .dataframe thead th {\n",
       "        text-align: right;\n",
       "    }\n",
       "</style>\n",
       "<table border=\"1\" class=\"dataframe\">\n",
       "  <thead>\n",
       "    <tr style=\"text-align: right;\">\n",
       "      <th></th>\n",
       "      <th>1</th>\n",
       "      <th>2</th>\n",
       "      <th>3</th>\n",
       "    </tr>\n",
       "  </thead>\n",
       "  <tbody>\n",
       "    <tr>\n",
       "      <th>0</th>\n",
       "      <td>0.74</td>\n",
       "      <td>0.21</td>\n",
       "      <td>22.0</td>\n",
       "    </tr>\n",
       "    <tr>\n",
       "      <th>1</th>\n",
       "      <td>0.43</td>\n",
       "      <td>0.15</td>\n",
       "      <td>14.0</td>\n",
       "    </tr>\n",
       "    <tr>\n",
       "      <th>2</th>\n",
       "      <td>0.77</td>\n",
       "      <td>0.10</td>\n",
       "      <td>15.0</td>\n",
       "    </tr>\n",
       "    <tr>\n",
       "      <th>3</th>\n",
       "      <td>0.57</td>\n",
       "      <td>0.31</td>\n",
       "      <td>15.0</td>\n",
       "    </tr>\n",
       "    <tr>\n",
       "      <th>4</th>\n",
       "      <td>0.80</td>\n",
       "      <td>0.31</td>\n",
       "      <td>20.0</td>\n",
       "    </tr>\n",
       "  </tbody>\n",
       "</table>\n",
       "</div>"
      ],
      "text/plain": [
       "      1     2     3\n",
       "0  0.74  0.21  22.0\n",
       "1  0.43  0.15  14.0\n",
       "2  0.77  0.10  15.0\n",
       "3  0.57  0.31  15.0\n",
       "4  0.80  0.31  20.0"
      ]
     },
     "execution_count": 31,
     "metadata": {},
     "output_type": "execute_result"
    }
   ],
   "source": [
    "pred = pd.read_csv('challenge2_prediction.csv')\n",
    "\n",
    "# Check top 5 records to get a feel of the data structure\n",
    "pred.head()"
   ]
  },
  {
   "cell_type": "code",
   "execution_count": 32,
   "metadata": {},
   "outputs": [
    {
     "name": "stdout",
     "output_type": "stream",
     "text": [
      "<class 'pandas.core.frame.DataFrame'>\n",
      "RangeIndex: 855 entries, 0 to 854\n",
      "Data columns (total 3 columns):\n",
      " #   Column  Non-Null Count  Dtype  \n",
      "---  ------  --------------  -----  \n",
      " 0   1       851 non-null    float64\n",
      " 1   2       850 non-null    float64\n",
      " 2   3       851 non-null    float64\n",
      "dtypes: float64(3)\n",
      "memory usage: 20.2 KB\n"
     ]
    }
   ],
   "source": [
    "pred.info()"
   ]
  },
  {
   "cell_type": "code",
   "execution_count": 33,
   "metadata": {},
   "outputs": [],
   "source": [
    "pred.dropna(inplace = True)"
   ]
  },
  {
   "cell_type": "code",
   "execution_count": 34,
   "metadata": {},
   "outputs": [
    {
     "name": "stdout",
     "output_type": "stream",
     "text": [
      "<class 'pandas.core.frame.DataFrame'>\n",
      "Int64Index: 844 entries, 0 to 854\n",
      "Data columns (total 3 columns):\n",
      " #   Column  Non-Null Count  Dtype  \n",
      "---  ------  --------------  -----  \n",
      " 0   1       844 non-null    float64\n",
      " 1   2       844 non-null    float64\n",
      " 2   3       844 non-null    float64\n",
      "dtypes: float64(3)\n",
      "memory usage: 26.4 KB\n"
     ]
    }
   ],
   "source": [
    "pred.info()"
   ]
  },
  {
   "cell_type": "code",
   "execution_count": 35,
   "metadata": {},
   "outputs": [],
   "source": [
    "## best model : KNN"
   ]
  },
  {
   "cell_type": "code",
   "execution_count": 36,
   "metadata": {},
   "outputs": [],
   "source": [
    "y_prediction = KNN.predict(pred)"
   ]
  },
  {
   "cell_type": "code",
   "execution_count": 37,
   "metadata": {},
   "outputs": [],
   "source": [
    "pred['target'] = y_prediction"
   ]
  },
  {
   "cell_type": "code",
   "execution_count": 38,
   "metadata": {},
   "outputs": [
    {
     "data": {
      "text/html": [
       "<div>\n",
       "<style scoped>\n",
       "    .dataframe tbody tr th:only-of-type {\n",
       "        vertical-align: middle;\n",
       "    }\n",
       "\n",
       "    .dataframe tbody tr th {\n",
       "        vertical-align: top;\n",
       "    }\n",
       "\n",
       "    .dataframe thead th {\n",
       "        text-align: right;\n",
       "    }\n",
       "</style>\n",
       "<table border=\"1\" class=\"dataframe\">\n",
       "  <thead>\n",
       "    <tr style=\"text-align: right;\">\n",
       "      <th></th>\n",
       "      <th>1</th>\n",
       "      <th>2</th>\n",
       "      <th>3</th>\n",
       "      <th>target</th>\n",
       "    </tr>\n",
       "  </thead>\n",
       "  <tbody>\n",
       "    <tr>\n",
       "      <th>0</th>\n",
       "      <td>0.74</td>\n",
       "      <td>0.21</td>\n",
       "      <td>22.0</td>\n",
       "      <td>False</td>\n",
       "    </tr>\n",
       "    <tr>\n",
       "      <th>1</th>\n",
       "      <td>0.43</td>\n",
       "      <td>0.15</td>\n",
       "      <td>14.0</td>\n",
       "      <td>False</td>\n",
       "    </tr>\n",
       "    <tr>\n",
       "      <th>2</th>\n",
       "      <td>0.77</td>\n",
       "      <td>0.10</td>\n",
       "      <td>15.0</td>\n",
       "      <td>False</td>\n",
       "    </tr>\n",
       "    <tr>\n",
       "      <th>3</th>\n",
       "      <td>0.57</td>\n",
       "      <td>0.31</td>\n",
       "      <td>15.0</td>\n",
       "      <td>False</td>\n",
       "    </tr>\n",
       "    <tr>\n",
       "      <th>4</th>\n",
       "      <td>0.80</td>\n",
       "      <td>0.31</td>\n",
       "      <td>20.0</td>\n",
       "      <td>False</td>\n",
       "    </tr>\n",
       "  </tbody>\n",
       "</table>\n",
       "</div>"
      ],
      "text/plain": [
       "      1     2     3  target\n",
       "0  0.74  0.21  22.0   False\n",
       "1  0.43  0.15  14.0   False\n",
       "2  0.77  0.10  15.0   False\n",
       "3  0.57  0.31  15.0   False\n",
       "4  0.80  0.31  20.0   False"
      ]
     },
     "execution_count": 38,
     "metadata": {},
     "output_type": "execute_result"
    }
   ],
   "source": [
    "pred.head()"
   ]
  },
  {
   "cell_type": "code",
   "execution_count": 39,
   "metadata": {},
   "outputs": [],
   "source": [
    "pred.to_csv('challenge2_prediction_new.csv')"
   ]
  }
 ],
 "metadata": {
  "kernelspec": {
   "display_name": "Python 3",
   "language": "python",
   "name": "python3"
  },
  "language_info": {
   "codemirror_mode": {
    "name": "ipython",
    "version": 3
   },
   "file_extension": ".py",
   "mimetype": "text/x-python",
   "name": "python",
   "nbconvert_exporter": "python",
   "pygments_lexer": "ipython3",
   "version": "3.7.1"
  }
 },
 "nbformat": 4,
 "nbformat_minor": 4
}
